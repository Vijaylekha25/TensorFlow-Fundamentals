{
 "cells": [
  {
   "cell_type": "markdown",
   "id": "f36907b2-57ea-49f5-8eae-f17a5ac84864",
   "metadata": {},
   "source": [
    "#### Part 1: Theoretical Questions\n",
    "\n",
    "##### 1.Different Data Structures in TensorFlow:\n",
    "TensorFlow primarily uses tensors as the fundamental data structure, which can be of various dimensions:\n",
    "\n",
    "Scalars (0-D tensors): Single values.\n",
    "Vectors (1-D tensors): Arrays of numbers.\n",
    "Matrices (2-D tensors): 2D arrays of numbers.\n",
    "Tensors (n-D tensors): n-dimensional arrays of numbers.\n",
    "Difference between TensorFlow Constant and Variable:\n",
    "\n",
    "##### 2.TensorFlow Constant: \n",
    "A TensorFlow constant is a tensor whose value cannot be changed once it is initialized. It is created using functions like tf.constant() and is typically used for storing fixed values such as hyperparameters or configuration settings.\n",
    "TensorFlow Variable: A TensorFlow variable is a tensor whose value can be changed during the execution of the program. It is created using tf.Variable() and is commonly used to represent model parameters that need to be optimized during training.\n",
    "##### 3.Matrix Operations in TensorFlow:\n",
    "\n",
    "Matrix Addition: Element-wise addition of corresponding elements of two matrices of the same shape.\n",
    "Matrix Multiplication: Dot product of two matrices, where the number of columns in the first matrix must equal the number of rows in the second matrix.\n",
    "Element-wise Operations: Operations performed element-wise on corresponding elements of matrices, such as addition, subtraction, multiplication, or division."
   ]
  },
  {
   "cell_type": "markdown",
   "id": "0270c7d1-bde5-4b74-b1f6-2d8313d5109a",
   "metadata": {},
   "source": [
    "#### Part 2: Practical Implementation\n",
    "\n",
    "#### Task 1: Creating and Manipulating Matrices"
   ]
  },
  {
   "cell_type": "code",
   "execution_count": 1,
   "id": "82ab4b26-cbba-4e12-a428-17ab4759c1ab",
   "metadata": {},
   "outputs": [
    {
     "ename": "ModuleNotFoundError",
     "evalue": "No module named 'tensorflow'",
     "output_type": "error",
     "traceback": [
      "\u001b[0;31m---------------------------------------------------------------------------\u001b[0m",
      "\u001b[0;31mModuleNotFoundError\u001b[0m                       Traceback (most recent call last)",
      "Cell \u001b[0;32mIn[1], line 1\u001b[0m\n\u001b[0;32m----> 1\u001b[0m \u001b[38;5;28;01mimport\u001b[39;00m \u001b[38;5;21;01mtensorflow\u001b[39;00m \u001b[38;5;28;01mas\u001b[39;00m \u001b[38;5;21;01mtf\u001b[39;00m\n\u001b[1;32m      3\u001b[0m \u001b[38;5;66;03m# Create matrix A (2x2) with random values from a normal distribution\u001b[39;00m\n\u001b[1;32m      4\u001b[0m A \u001b[38;5;241m=\u001b[39m tf\u001b[38;5;241m.\u001b[39mrandom\u001b[38;5;241m.\u001b[39mnormal((\u001b[38;5;241m2\u001b[39m, \u001b[38;5;241m2\u001b[39m))\n",
      "\u001b[0;31mModuleNotFoundError\u001b[0m: No module named 'tensorflow'"
     ]
    }
   ],
   "source": [
    "import tensorflow as tf\n",
    "\n",
    "# Create matrix A (2x2) with random values from a normal distribution\n",
    "A = tf.random.normal((2, 2))\n",
    "print(\"Matrix A:\")\n",
    "print(A.numpy())\n",
    "\n",
    "# Create matrix B (2x2) with values from a truncated normal distribution\n",
    "B = tf.random.truncated_normal((2, 2))\n",
    "print(\"\\nMatrix B:\")\n",
    "print(B.numpy())\n",
    "\n",
    "# Create matrix C (2x2) with values from a normal distribution with mean 2 and standard deviation 0.1\n",
    "C = tf.random.normal((2, 2), mean=2, stddev=0.1)\n",
    "print(\"\\nMatrix C:\")\n",
    "print(C.numpy())\n",
    "\n",
    "# Matrix addition: A + B = D\n",
    "D = tf.add(A, B)\n",
    "print(\"\\nMatrix D (A + B):\")\n",
    "print(D.numpy())\n",
    "\n",
    "# Matrix multiplication: C * D = E\n",
    "E = tf.matmul(C, D)\n",
    "print(\"\\nMatrix E (C * D):\")\n",
    "print(E.numpy())"
   ]
  },
  {
   "cell_type": "markdown",
   "id": "9a6df2ac-666f-43c0-ac40-4c4980928b54",
   "metadata": {},
   "source": [
    "#### Task 2: Performing Additional Matrix Operations"
   ]
  },
  {
   "cell_type": "code",
   "execution_count": 2,
   "id": "f370ec38-9e31-4112-bdfc-00dc2f112397",
   "metadata": {},
   "outputs": [
    {
     "ename": "NameError",
     "evalue": "name 'tf' is not defined",
     "output_type": "error",
     "traceback": [
      "\u001b[0;31m---------------------------------------------------------------------------\u001b[0m",
      "\u001b[0;31mNameError\u001b[0m                                 Traceback (most recent call last)",
      "Cell \u001b[0;32mIn[2], line 2\u001b[0m\n\u001b[1;32m      1\u001b[0m \u001b[38;5;66;03m# Create matrix F (2x2) with random values from a uniform distribution\u001b[39;00m\n\u001b[0;32m----> 2\u001b[0m F \u001b[38;5;241m=\u001b[39m \u001b[43mtf\u001b[49m\u001b[38;5;241m.\u001b[39mrandom\u001b[38;5;241m.\u001b[39muniform((\u001b[38;5;241m2\u001b[39m, \u001b[38;5;241m2\u001b[39m))\n\u001b[1;32m      3\u001b[0m \u001b[38;5;28mprint\u001b[39m(\u001b[38;5;124m\"\u001b[39m\u001b[38;5;130;01m\\n\u001b[39;00m\u001b[38;5;124mMatrix F:\u001b[39m\u001b[38;5;124m\"\u001b[39m)\n\u001b[1;32m      4\u001b[0m \u001b[38;5;28mprint\u001b[39m(F\u001b[38;5;241m.\u001b[39mnumpy())\n",
      "\u001b[0;31mNameError\u001b[0m: name 'tf' is not defined"
     ]
    }
   ],
   "source": [
    "# Create matrix F (2x2) with random values from a uniform distribution\n",
    "F = tf.random.uniform((2, 2))\n",
    "print(\"\\nMatrix F:\")\n",
    "print(F.numpy())\n",
    "\n",
    "# Transpose of matrix F: G\n",
    "G = tf.transpose(F)\n",
    "print(\"\\nMatrix G (Transpose of F):\")\n",
    "print(G.numpy())\n",
    "\n",
    "# Element-wise exponential of matrix F: H\n",
    "H = tf.exp(F)\n",
    "print(\"\\nMatrix H (Element-wise exponential of F):\")\n",
    "print(H.numpy())\n",
    "\n",
    "# Concatenate matrices F and G horizontally: I\n",
    "I = tf.concat([F, G], axis=1)\n",
    "print(\"\\nMatrix I (Concatenation of F and G horizontally):\")\n",
    "print(I.numpy())\n",
    "\n",
    "# Concatenate matrices F and H vertically: J\n",
    "J = tf.concat([F, H], axis=0)\n",
    "print(\"\\nMatrix J (Concatenation of F and H vertically):\")\n",
    "print(J.numpy())"
   ]
  },
  {
   "cell_type": "code",
   "execution_count": null,
   "id": "71b27af5-c050-4efd-9c63-2917270a6927",
   "metadata": {},
   "outputs": [],
   "source": []
  }
 ],
 "metadata": {
  "kernelspec": {
   "display_name": "Python 3 (ipykernel)",
   "language": "python",
   "name": "python3"
  },
  "language_info": {
   "codemirror_mode": {
    "name": "ipython",
    "version": 3
   },
   "file_extension": ".py",
   "mimetype": "text/x-python",
   "name": "python",
   "nbconvert_exporter": "python",
   "pygments_lexer": "ipython3",
   "version": "3.10.8"
  }
 },
 "nbformat": 4,
 "nbformat_minor": 5
}
